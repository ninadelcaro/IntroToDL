{
 "cells": [
  {
   "cell_type": "code",
   "execution_count": 1,
   "metadata": {},
   "outputs": [],
   "source": [
    "import pickle\n",
    "import random\n",
    "import math\n",
    "import os\n",
    "import torch.nn as nn\n",
    "import torch\n",
    "import numpy as np\n",
    "import matplotlib.pyplot as plt\n",
    "import librosa\n",
    "from torch.utils.data import Dataset, DataLoader\n",
    "from sklearn.metrics import mean_absolute_error, mean_squared_error, r2_score\n",
    "import pandas as pd\n",
    "\n",
    "from tqdm import tqdm\n",
    "import torch.optim as optim\n",
    "import torchvision.transforms.functional as F\n",
    "\n",
    "device = torch.device(\"cuda:1\" if torch.cuda.is_available() else \"cpu\")"
   ]
  },
  {
   "cell_type": "markdown",
   "metadata": {},
   "source": [
    "# Training best model on all training data"
   ]
  },
  {
   "cell_type": "code",
   "execution_count": 2,
   "metadata": {},
   "outputs": [
    {
     "name": "stdout",
     "output_type": "stream",
     "text": [
      "Done padding\n",
      "Done with data loaders\n"
     ]
    }
   ],
   "source": [
    "#################################################################################################### Imports\n",
    "import pickle\n",
    "import random\n",
    "import math\n",
    "import os\n",
    "import torch.nn as nn\n",
    "import torch\n",
    "import numpy as np\n",
    "import matplotlib.pyplot as plt\n",
    "import librosa\n",
    "from torch.utils.data import Dataset, DataLoader\n",
    "from sklearn.metrics import mean_absolute_error, mean_squared_error, r2_score\n",
    "\n",
    "from tqdm import tqdm\n",
    "import torch.optim as optim\n",
    "import torchvision.transforms.functional as F\n",
    "\n",
    "device = torch.device(\"cuda:1\" if torch.cuda.is_available() else \"cpu\")\n",
    "#################################################################################################### Load Pickle Files\n",
    "def trim_array(arr):\n",
    "    if np.all(arr == 0):  # Check if the array is all zeros\n",
    "        return arr\n",
    "    first_non_zero = np.argmax(arr != 0)\n",
    "    last_non_zero = len(arr) - np.argmax(arr[::-1] != 0)\n",
    "    return arr[first_non_zero:last_non_zero]\n",
    "\n",
    "allaudios = [] # Creates an empty list\n",
    "for root, dirs, files in os.walk(\"train\"):\n",
    "    i=0 \n",
    "    for file in files:\n",
    "        if file.endswith(\".pkl\"):\n",
    "           audio = file\n",
    "           openaudios = open(os.getcwd() + \"/train/\" + audio, 'rb')\n",
    "           loadedaudios = pickle.load(openaudios)\n",
    "           \n",
    "           allaudios.append(loadedaudios)\n",
    "           i+=1\n",
    "        #    if i==1000:\n",
    "        #        break\n",
    "\n",
    "audio_data = []\n",
    "valence = []\n",
    "audio_lengths = []\n",
    "for audio in allaudios:\n",
    "    # Get Rid of front and end trailing zeros\n",
    "    audio_trimmed = trim_array(audio['audio_data'])\n",
    "    audio_data.append(audio_trimmed)\n",
    "\n",
    "    audio_length = len(audio_trimmed)\n",
    "    audio_lengths.append(audio_length)\n",
    "    valence.append(audio['valence'])\n",
    "\n",
    "\n",
    "mean_length = np.mean(audio_lengths)\n",
    "median_length = np.median(audio_lengths)\n",
    "std_dev = np.std(audio_lengths)\n",
    "min_length = np.min(audio_lengths)\n",
    "max_length = np.max(audio_lengths)\n",
    "\n",
    "#################################################################################################### Pad / Truncation (get all audio the same length)\n",
    "def pad_trunc_audio(audio_data, target_length = int(np.percentile(audio_lengths, 95))):\n",
    "    standardized_data = []\n",
    "    for data in audio_data:\n",
    "        if len(data) < target_length:\n",
    "            padded_data = np.pad(data, (0, target_length - len(data)), 'constant', constant_values=(0, 0))\n",
    "            standardized_data.append(padded_data)\n",
    "        elif len(data) > target_length:\n",
    "            truncated_data = data[:target_length]\n",
    "            standardized_data.append(truncated_data)\n",
    "        else:\n",
    "            standardized_data.append(data)\n",
    "    return standardized_data\n",
    "\n",
    "standardized_audios = pad_trunc_audio(audio_data)\n",
    "print(\"Done padding\")\n",
    "\n",
    "class Normalization(nn.Module):\n",
    "    def __init__(self, mean, std):\n",
    "        super().__init__()\n",
    "        self.register_buffer(\"mean\", torch.tensor(mean))\n",
    "        self.register_buffer(\"std\", torch.tensor(std))\n",
    "\n",
    "    def forward(self, x):\n",
    "        with torch.no_grad():\n",
    "            x = x - self.mean\n",
    "            x = x / self.std\n",
    "        return x\n",
    "\n",
    "#################################################################################################### DataLoader Creation\n",
    "class AudioDataset(Dataset):\n",
    "    def __init__(self, X, y):\n",
    "        self.X = X\n",
    "        self.y = y\n",
    "    \n",
    "    def __len__(self):\n",
    "        return len(self.X)\n",
    "    \n",
    "    def __getitem__(self, idx):\n",
    "        return self.X[idx], self.y[idx]\n",
    "    \n",
    "\n",
    "size_train = int(round(len(standardized_audios) * 0.8))\n",
    "X_train = standardized_audios[:size_train]\n",
    "X_test = standardized_audios[size_train:]\n",
    "y_train = valence[:size_train]\n",
    "y_test = valence[size_train:]\n",
    "\n",
    "flatten = np.concatenate(X_train)\n",
    "mean = np.mean(flatten)\n",
    "std = flatten.std()\n",
    "normalization = Normalization(mean, std)\n",
    "\n",
    "batch_size = 64\n",
    "\n",
    "train_dataset = AudioDataset(X_train, y_train)\n",
    "test_dataset = AudioDataset(X_test, y_test)\n",
    "\n",
    "train_dataloader = DataLoader(train_dataset, batch_size=batch_size, shuffle=True, pin_memory=True,) # you can speed up the host to device transfer by enabling pin_memory.\n",
    "test_dataloader = DataLoader(test_dataset, batch_size=batch_size, shuffle=False, pin_memory=True,) # you can speed up the host to device transfer by enabling pin_memory.\n",
    "\n",
    "print(\"Done with data loaders\")\n",
    "#################################################################################################### Model Architecture\n",
    "class CNN1d(nn.Module):\n",
    "    def __init__(self, pre_proocesses, hidden_sizes, activation_function):\n",
    "\n",
    "        super(CNN1d, self).__init__()\n",
    "\n",
    "        self.hidden_sizes = hidden_sizes\n",
    "        self.activation_function = activation_function\n",
    "\n",
    "        self.width = 128\n",
    "\n",
    "        self.layers = nn.ModuleList()\n",
    "\n",
    "        # # add preprocessing steps\n",
    "        # for process in pre_proocesses:\n",
    "        #     self.layers.append(process)\n",
    "\n",
    "        self.layers.append(normalization)\n",
    "\n",
    "        for i in range(len(self.hidden_sizes)):\n",
    "            self.layers.append(nn.Conv1d(1 if i ==0 else self.hidden_sizes[i-1], self.hidden_sizes[i], kernel_size=3))\n",
    "            self.layers.append(nn.BatchNorm1d(self.hidden_sizes[i], eps=.00001, momentum=0.1, affine=True, track_running_stats=True))\n",
    "            self.layers.append(nn.MaxPool1d(kernel_size=3))\n",
    "            self.layers.append(self.activation_function())\n",
    "\n",
    "\n",
    "        self.layers.append(nn.AdaptiveAvgPool1d(1))\n",
    "        self.layers.append(nn.Flatten()) \n",
    "        self.layers.append(nn.Linear(in_features=self.hidden_sizes[-1], out_features=self.width))\n",
    "        self.layers.append(nn.Dropout(p=0.5))\n",
    "        self.layers.append(nn.Linear(in_features=self.width, out_features=1))\n",
    "\n",
    "    def forward(self,x):\n",
    "        for layer in self.layers:\n",
    "            x = layer(x)\n",
    "        return x\n",
    "    \n",
    "#################################################################################################### Train Model Loop\n",
    "def calculate_metrics(actual, predicted):\n",
    "\n",
    "    mae = mean_absolute_error(actual, predicted)\n",
    "    mse = mean_squared_error(actual, predicted)\n",
    "    rmse = np.sqrt(mse)\n",
    "    r2 = r2_score(actual, predicted)\n",
    "    \n",
    "    return {\n",
    "        \"Mean Absolute Error (MAE)\": mae,\n",
    "        \"Mean Squared Error (MSE)\": mse,\n",
    "        \"Root Mean Squared Error (RMSE)\": rmse,\n",
    "        \"R-squared (R^2)\": r2\n",
    "    }\n",
    "\n",
    "def loss_plot(train_loss, validation_loss, filename):\n",
    "    epochs = range(1, len(train_loss) + 1) # start at 1 instead of 0\n",
    "    # Plotting the training and validation losses\n",
    "    plt.figure(figsize=(5, 5))\n",
    "    plt.plot(epochs, train_loss, label='Training Loss', color='blue')\n",
    "    plt.plot(epochs, validation_loss, label='Validation Loss', color='red')\n",
    "    plt.title('Training and Validation Loss')\n",
    "    plt.xlabel('Epochs')\n",
    "    plt.ylabel('Loss')\n",
    "    plt.legend()\n",
    "    plt.savefig(filename)\n",
    "    plt.show()\n",
    "    \n",
    "\n",
    "def train_model(net, optimizer, train_loader, val_loader, epochs):\n",
    "    # Define the loss function\n",
    "    criterion = nn.MSELoss()\n",
    "    # Define the optimizer\n",
    "\n",
    "    train_loss_lst = []\n",
    "    val_loss_lst = []\n",
    "\n",
    "    for epoch in range(epochs):\n",
    "        net.train()\n",
    "        running_loss = 0.0\n",
    "        # Iterate over training batches\n",
    "        with tqdm(total=len(train_loader), desc=f'Epoch {epoch+1}/{epochs}', unit='batch') as pbar:\n",
    "            for audio, valence in train_loader:\n",
    "                optimizer.zero_grad()  # Reset gradients\n",
    "                valence = valence.float() # was double \n",
    "\n",
    "                audio = audio.unsqueeze(1) # [batch, channel=1, 128,145]\n",
    "                audio, valence = audio.to(device), valence.to(device)\n",
    "\n",
    "                outputs = net(audio)\n",
    "                outputs = outputs.squeeze()  # Reshape the output to match target\n",
    "                loss = criterion(outputs, valence)\n",
    "                loss.backward()\n",
    "                optimizer.step()\n",
    "                running_loss += loss.item()\n",
    "\n",
    "                pbar.set_postfix({'loss': running_loss / (len(pbar) + 1)})  # Display average loss\n",
    "                pbar.update(1)  # Update the progress bar\n",
    "\n",
    "        train_loss = running_loss / len(train_loader)\n",
    "        train_loss_lst.append(train_loss)\n",
    "\n",
    "        # Validation\n",
    "        net.eval()\n",
    "        val_running_loss = 0.0\n",
    "        with torch.no_grad():\n",
    "            for audio, valence in val_loader:\n",
    "                valence = valence.float() # was double\n",
    "\n",
    "                audio = audio.unsqueeze(1) # [batch, channel=1, 128,145]\n",
    "                audio, valence = audio.to(device), valence.to(device)\n",
    "                outputs = net(audio)\n",
    "                outputs = outputs.squeeze()  # Reshape the output to match target\n",
    "                val_loss = criterion(outputs, valence)\n",
    "                val_running_loss += val_loss.item()\n",
    "\n",
    "        val_loss = val_running_loss / len(val_loader)\n",
    "        val_loss_lst.append(val_loss)\n",
    "\n",
    "        print(f\"Epoch {epoch+1}/{epochs}, Train Loss: {train_loss:.4f}, Val Loss: {val_loss:.4f}\")\n",
    "        \n",
    "    #display loss graph\n",
    "    # loss_plot(train_loss_lst, val_loss_lst, \"\")\n",
    "    print(\"Training for CNN is finished.\")\n",
    "\n",
    "    return train_loss_lst, val_loss_lst\n",
    "\n",
    "\n",
    "#################################################################################################### Run and Save Best model\n",
    "# model_best = CNN1d([], best_coarse_params['hidden_size'], nn.ReLU).to(device)\n",
    "# optimizer = optim.Adagrad(model_best.parameters(), lr=best_coarse_params['lr'])\n",
    "# train_loss_lst, val_loss_lst = train_model(model_best, optimizer, train_dataloader, test_dataloader, 20)\n",
    "# loss_plot(train_loss_lst, val_loss_lst, f\"best_model_hidden_size_{hidden_sizes}_lr_{learning_rate:.4}_epochs_{num_epochs}.png\")\n",
    "\n",
    "\n"
   ]
  },
  {
   "cell_type": "code",
   "execution_count": 3,
   "metadata": {},
   "outputs": [
    {
     "name": "stderr",
     "output_type": "stream",
     "text": [
      "Epoch 1/10: 100%|██████████| 132/132 [02:28<00:00,  1.13s/batch, loss=1.05] \n"
     ]
    },
    {
     "name": "stdout",
     "output_type": "stream",
     "text": [
      "Epoch 1/10, Train Loss: 1.0575, Val Loss: 0.6016\n"
     ]
    },
    {
     "name": "stderr",
     "output_type": "stream",
     "text": [
      "Epoch 2/10: 100%|██████████| 132/132 [02:40<00:00,  1.22s/batch, loss=0.695]\n"
     ]
    },
    {
     "name": "stdout",
     "output_type": "stream",
     "text": [
      "Epoch 2/10, Train Loss: 0.7006, Val Loss: 0.6124\n"
     ]
    },
    {
     "name": "stderr",
     "output_type": "stream",
     "text": [
      "Epoch 3/10: 100%|██████████| 132/132 [02:44<00:00,  1.24s/batch, loss=0.652]\n"
     ]
    },
    {
     "name": "stdout",
     "output_type": "stream",
     "text": [
      "Epoch 3/10, Train Loss: 0.6571, Val Loss: 0.6040\n"
     ]
    },
    {
     "name": "stderr",
     "output_type": "stream",
     "text": [
      "Epoch 4/10: 100%|██████████| 132/132 [02:45<00:00,  1.25s/batch, loss=0.635]\n"
     ]
    },
    {
     "name": "stdout",
     "output_type": "stream",
     "text": [
      "Epoch 4/10, Train Loss: 0.6402, Val Loss: 0.5896\n"
     ]
    },
    {
     "name": "stderr",
     "output_type": "stream",
     "text": [
      "Epoch 5/10: 100%|██████████| 132/132 [02:57<00:00,  1.34s/batch, loss=0.607]\n"
     ]
    },
    {
     "name": "stdout",
     "output_type": "stream",
     "text": [
      "Epoch 5/10, Train Loss: 0.6112, Val Loss: 0.5107\n"
     ]
    },
    {
     "name": "stderr",
     "output_type": "stream",
     "text": [
      "Epoch 6/10: 100%|██████████| 132/132 [02:51<00:00,  1.30s/batch, loss=0.605]\n"
     ]
    },
    {
     "name": "stdout",
     "output_type": "stream",
     "text": [
      "Epoch 6/10, Train Loss: 0.6098, Val Loss: 0.5484\n"
     ]
    },
    {
     "name": "stderr",
     "output_type": "stream",
     "text": [
      "Epoch 7/10: 100%|██████████| 132/132 [02:53<00:00,  1.31s/batch, loss=0.59] \n"
     ]
    },
    {
     "name": "stdout",
     "output_type": "stream",
     "text": [
      "Epoch 7/10, Train Loss: 0.5946, Val Loss: 0.5089\n"
     ]
    },
    {
     "name": "stderr",
     "output_type": "stream",
     "text": [
      "Epoch 8/10: 100%|██████████| 132/132 [02:56<00:00,  1.34s/batch, loss=0.589]\n"
     ]
    },
    {
     "name": "stdout",
     "output_type": "stream",
     "text": [
      "Epoch 8/10, Train Loss: 0.5932, Val Loss: 0.6633\n"
     ]
    },
    {
     "name": "stderr",
     "output_type": "stream",
     "text": [
      "Epoch 9/10: 100%|██████████| 132/132 [02:55<00:00,  1.33s/batch, loss=0.575]\n"
     ]
    },
    {
     "name": "stdout",
     "output_type": "stream",
     "text": [
      "Epoch 9/10, Train Loss: 0.5798, Val Loss: 0.5188\n"
     ]
    },
    {
     "name": "stderr",
     "output_type": "stream",
     "text": [
      "Epoch 10/10: 100%|██████████| 132/132 [03:06<00:00,  1.42s/batch, loss=0.567]\n"
     ]
    },
    {
     "name": "stdout",
     "output_type": "stream",
     "text": [
      "Epoch 10/10, Train Loss: 0.5716, Val Loss: 0.5954\n",
      "Training for CNN is finished.\n"
     ]
    },
    {
     "data": {
      "image/png": "[encoded data removed]",
      "text/plain": [
       "<Figure size 500x500 with 1 Axes>"
      ]
     },
     "metadata": {},
     "output_type": "display_data"
    }
   ],
   "source": [
    "model_best = CNN1d([], [16,16,32,32,64,64,128], nn.ReLU).to(device)\n",
    "optimizer = optim.Adagrad(model_best.parameters(), lr=0.0018969)\n",
    "train_loss_lst, val_loss_lst = train_model(model_best, optimizer, train_dataloader, test_dataloader, 10)\n",
    "loss_plot(train_loss_lst, val_loss_lst, f\"best_model_hidden_size_[16 16,32,32,64,64,128]_lr_{0.0018969:.4}_epochs_{10}.png\")\n",
    "\n",
    "save_path = \"best_coarse_model_adam_10_epochs_with_normalization.pth\"\n",
    "\n",
    "torch.save(model_best, save_path)"
   ]
  },
  {
   "cell_type": "markdown",
   "metadata": {},
   "source": [
    "# Load In Model"
   ]
  },
  {
   "cell_type": "code",
   "execution_count": 4,
   "metadata": {},
   "outputs": [],
   "source": [
    "class CNN1d(nn.Module):\n",
    "    def __init__(self, pre_proocesses, hidden_sizes, activation_function):\n",
    "\n",
    "        super(CNN1d, self).__init__()\n",
    "\n",
    "        self.hidden_sizes = hidden_sizes\n",
    "        self.activation_function = activation_function\n",
    "\n",
    "        self.width = 128\n",
    "\n",
    "        self.layers = nn.ModuleList()\n",
    "\n",
    "        # # add preprocessing steps\n",
    "        # for process in pre_proocesses:\n",
    "        #     self.layers.append(process)\n",
    "\n",
    "        self.layers.append(normalization)\n",
    "\n",
    "        for i in range(len(self.hidden_sizes)):\n",
    "            self.layers.append(nn.Conv1d(1 if i ==0 else self.hidden_sizes[i-1], self.hidden_sizes[i], kernel_size=3))\n",
    "            self.layers.append(nn.BatchNorm1d(self.hidden_sizes[i], eps=.00001, momentum=0.1, affine=True, track_running_stats=True))\n",
    "            self.layers.append(nn.MaxPool1d(kernel_size=3))\n",
    "            self.layers.append(self.activation_function())\n",
    "\n",
    "\n",
    "        self.layers.append(nn.AdaptiveAvgPool1d(1))\n",
    "        self.layers.append(nn.Flatten()) \n",
    "        self.layers.append(nn.Linear(in_features=self.hidden_sizes[-1], out_features=self.width))\n",
    "        self.layers.append(nn.Dropout(p=0.5))\n",
    "        self.layers.append(nn.Linear(in_features=self.width, out_features=1))\n",
    "\n",
    "    def forward(self,x):\n",
    "        for layer in self.layers:\n",
    "            x = layer(x)\n",
    "        return x\n",
    "    \n",
    "model = torch.load(\"best_coarse_model_adam_10_epochs_with_normalization.pth\")"
   ]
  },
  {
   "cell_type": "markdown",
   "metadata": {},
   "source": [
    "# Test Data"
   ]
  },
  {
   "cell_type": "code",
   "execution_count": 6,
   "metadata": {},
   "outputs": [
    {
     "data": {
      "text/html": [
       "<div>\n",
       "<style scoped>\n",
       "    .dataframe tbody tr th:only-of-type {\n",
       "        vertical-align: middle;\n",
       "    }\n",
       "\n",
       "    .dataframe tbody tr th {\n",
       "        vertical-align: top;\n",
       "    }\n",
       "\n",
       "    .dataframe thead th {\n",
       "        text-align: right;\n",
       "    }\n",
       "</style>\n",
       "<table border=\"1\" class=\"dataframe\">\n",
       "  <thead>\n",
       "    <tr style=\"text-align: right;\">\n",
       "      <th></th>\n",
       "      <th>ID</th>\n",
       "      <th>valence</th>\n",
       "    </tr>\n",
       "  </thead>\n",
       "  <tbody>\n",
       "    <tr>\n",
       "      <th>0</th>\n",
       "      <td>10011.pkl</td>\n",
       "      <td>3.173593</td>\n",
       "    </tr>\n",
       "    <tr>\n",
       "      <th>1</th>\n",
       "      <td>10025.pkl</td>\n",
       "      <td>2.587912</td>\n",
       "    </tr>\n",
       "    <tr>\n",
       "      <th>2</th>\n",
       "      <td>10033.pkl</td>\n",
       "      <td>4.055475</td>\n",
       "    </tr>\n",
       "    <tr>\n",
       "      <th>3</th>\n",
       "      <td>10036.pkl</td>\n",
       "      <td>2.983720</td>\n",
       "    </tr>\n",
       "    <tr>\n",
       "      <th>4</th>\n",
       "      <td>10043.pkl</td>\n",
       "      <td>3.717566</td>\n",
       "    </tr>\n",
       "    <tr>\n",
       "      <th>...</th>\n",
       "      <td>...</td>\n",
       "      <td>...</td>\n",
       "    </tr>\n",
       "    <tr>\n",
       "      <th>1858</th>\n",
       "      <td>22393.pkl</td>\n",
       "      <td>3.067180</td>\n",
       "    </tr>\n",
       "    <tr>\n",
       "      <th>1859</th>\n",
       "      <td>22394.pkl</td>\n",
       "      <td>3.084748</td>\n",
       "    </tr>\n",
       "    <tr>\n",
       "      <th>1860</th>\n",
       "      <td>22400.pkl</td>\n",
       "      <td>3.276754</td>\n",
       "    </tr>\n",
       "    <tr>\n",
       "      <th>1861</th>\n",
       "      <td>22401.pkl</td>\n",
       "      <td>2.928008</td>\n",
       "    </tr>\n",
       "    <tr>\n",
       "      <th>1862</th>\n",
       "      <td>22411.pkl</td>\n",
       "      <td>3.004145</td>\n",
       "    </tr>\n",
       "  </tbody>\n",
       "</table>\n",
       "<p>1863 rows × 2 columns</p>\n",
       "</div>"
      ],
      "text/plain": [
       "             ID   valence\n",
       "0     10011.pkl  3.173593\n",
       "1     10025.pkl  2.587912\n",
       "2     10033.pkl  4.055475\n",
       "3     10036.pkl  2.983720\n",
       "4     10043.pkl  3.717566\n",
       "...         ...       ...\n",
       "1858  22393.pkl  3.067180\n",
       "1859  22394.pkl  3.084748\n",
       "1860  22400.pkl  3.276754\n",
       "1861  22401.pkl  2.928008\n",
       "1862  22411.pkl  3.004145\n",
       "\n",
       "[1863 rows x 2 columns]"
      ]
     },
     "execution_count": 6,
     "metadata": {},
     "output_type": "execute_result"
    }
   ],
   "source": [
    "# Function to process a single pickle file and return the filename and prediction\n",
    "def process_file(file_path):\n",
    "    with open(file_path, 'rb') as file:\n",
    "        data = pickle.load(file)\n",
    "    #apply preprocessing\n",
    "    audio_data = data[\"audio_data\"]\n",
    "    audio_trimmed = trim_array(audio_data)\n",
    "    \n",
    "    audio_pad_trunced = pad_trunc_audio([audio_trimmed])\n",
    "    audio_data_tensor = torch.tensor(audio_pad_trunced).unsqueeze(0)\n",
    "\n",
    "    # print(f\"Original shape: {audio_data.shape}\")\n",
    "    # print(f\"Trimmed shape: {audio_trimmed.shape}\")\n",
    "    # print(f\"Pad/Truncated shape: {len(audio_pad_trunced[0])}\")\n",
    "    # print(f\"Tensor shape: {audio_data_tensor.shape}\")\n",
    "\n",
    "\n",
    "    valence = model(audio_data_tensor).item()\n",
    "    return os.path.basename(file_path), valence\n",
    "\n",
    "# List to store results\n",
    "results = []\n",
    "\n",
    "# Iterate through all files in the folder\n",
    "for filename in os.listdir(\"test\"):\n",
    "    if filename.endswith('.pkl'):\n",
    "        file_path = os.path.join(\"test\", filename)\n",
    "        file_id, valence = process_file(file_path)\n",
    "        results.append((file_id, valence))\n",
    "\n",
    "# Create a DataFrame for better visualization and potential saving to CSV\n",
    "results_df = pd.DataFrame(results, columns=['ID', 'valence'])\n",
    "\n",
    "# Save results to a CSV file\n",
    "results_df.to_csv('results_group42_a1.csv', index=False)\n",
    "\n",
    "results_df"
   ]
  },
  {
   "cell_type": "code",
   "execution_count": null,
   "metadata": {},
   "outputs": [],
   "source": []
  }
 ],
 "metadata": {
  "kernelspec": {
   "display_name": "base",
   "language": "python",
   "name": "python3"
  },
  "language_info": {
   "codemirror_mode": {
    "name": "ipython",
    "version": 3
   },
   "file_extension": ".py",
   "mimetype": "text/x-python",
   "name": "python",
   "nbconvert_exporter": "python",
   "pygments_lexer": "ipython3",
   "version": "3.11.5"
  }
 },
 "nbformat": 4,
 "nbformat_minor": 2
}
